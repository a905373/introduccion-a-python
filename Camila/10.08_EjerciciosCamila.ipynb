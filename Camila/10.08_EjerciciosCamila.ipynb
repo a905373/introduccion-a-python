{
 "cells": [
  {
   "cell_type": "markdown",
   "metadata": {},
   "source": [
    "# Ejercicios\n",
    "Curso Introducción a Python - Tecnun, Universidad de Navarra"
   ]
  },
  {
   "cell_type": "markdown",
   "metadata": {},
   "source": [
    "## Cambiar el orden de las palabras"
   ]
  },
  {
   "cell_type": "markdown",
   "metadata": {},
   "source": [
    "Pide al usuario que introduzca una frase y que el algoritmo la muestre por pantalla pero con las palabras en orden inverso. Por ejemplo:\n",
    "\n",
    "                            Me gusta analizar datos  ->  datos analizar gusta Me"
   ]
  },
  {
   "cell_type": "code",
   "execution_count": 14,
   "metadata": {},
   "outputs": [
    {
     "name": "stdout",
     "output_type": "stream",
     "text": [
      "Porfavor introduzca una frase: \n",
      "Me gusta analizar datos\n"
     ]
    },
    {
     "data": {
      "text/plain": [
       "'datos analizar gusta Me'"
      ]
     },
     "execution_count": 14,
     "metadata": {},
     "output_type": "execute_result"
    }
   ],
   "source": [
    "frase = input (\"Porfavor introduzca una frase: \\n\")\n",
    "x = frase.split(\" \")\n",
    "x = reversed(x) \n",
    "\" \".join(x)"
   ]
  },
  {
   "cell_type": "markdown",
   "metadata": {},
   "source": [
    "## Piedra - Papel - Tijera"
   ]
  },
  {
   "cell_type": "markdown",
   "metadata": {},
   "source": [
    "Crea un algoritmo que pida a dos usuarios si eligen piedra, papel o tijera y muestra por pantalla un mensaje para el ganador. En caso de empate, seguirán jugando hasta desempatar."
   ]
  },
  {
   "cell_type": "code",
   "execution_count": 23,
   "metadata": {},
   "outputs": [
    {
     "name": "stdout",
     "output_type": "stream",
     "text": [
      " Jugador 1, ¿piedra, papel o tijera?: \n",
      "piedra\n",
      " Jugador 2, ¿piedra, papel o tijera?: \n",
      "tijera\n",
      "¡Piedra gana contra tijera! ¡Felicidades jugador 1!\n"
     ]
    }
   ],
   "source": [
    "i=0\n",
    "while i == 0: \n",
    "    J1 = input (\" Jugador 1, ¿piedra, papel o tijera?: \\n\")\n",
    "    J2 = input (\" Jugador 2, ¿piedra, papel o tijera?: \\n\")\n",
    "    if J1 == J2:\n",
    "        print (\" ¡Empate! \")\n",
    "        continue\n",
    "    elif J1 ==  \"piedra\":\n",
    "        i=1\n",
    "        if J2== \"tijera\":\n",
    "            print (\"¡Piedra gana contra tijera! ¡Felicidades jugador 1!\")\n",
    "        else: \n",
    "            print(\" ¡Papel gana contra piedra! ¡Felicidades jugador 2!\")\n",
    "    elif J1 == \"papel\":\n",
    "        i=1\n",
    "        if J2 == \"tijera\":\n",
    "            print (\"¡Tijera gana contra papel! ¡Felicidades jugador 2!\")\n",
    "        else:\n",
    "            print(\"¡Papel gana contra piedra! ¡Feliciades jugador 1!\")\n",
    "    elif J1 == \"tijera\": \n",
    "        i=1\n",
    "        if J2 == \"papel\":\n",
    "            print (\"¡Tijera gana contra papel! ¡Felicidades jugador 1!\")\n",
    "        else: \n",
    "            print (\"¡Piedra gana contra tijera! ¡Felicidades jugador 2!\")\n",
    "    "
   ]
  },
  {
   "cell_type": "markdown",
   "metadata": {},
   "source": [
    "## Validación de contraseñas "
   ]
  },
  {
   "cell_type": "markdown",
   "metadata": {},
   "source": [
    "Crea una función que tome como argumento de entrada una propuesta de contraseña y compruebe si es segura o no. Una contraseña segura ha de cumplir las siguientes condiciones:\n",
    "- Debe tener al menos 8 caracteres.\n",
    "- Debe tener al menos una letra minúscula, una letra mayúscula, un número y un carácter no alfanumérico.\n",
    "- No puede tener espacios en blanco.\n",
    "\n",
    "Si la contraseña es segura, deberá mostrarse *True* por pantalla y, si no lo es, se mostrará *False*.\n",
    "\n",
    "Puedes aprovechar para practicar las expresiones regulares."
   ]
  },
  {
   "cell_type": "code",
   "execution_count": null,
   "metadata": {},
   "outputs": [],
   "source": [
    "def seguridad(pw):\n",
    "    segura = 0\n",
    "    if (len(pw) => 8):\n",
    "        for letra in pw:\n",
    "            if letra.isspace\n",
    "            # Minuscula\n",
    "            if (letra.islower()):\n",
    "                segura= segura + 1\n",
    "            # Mayuscula\n",
    "            if (letra.isupper()):\n",
    "                segura = segura + 1\n",
    "            # Numero\n",
    "            if (letra.isdigit()):\n",
    "                segura = segura + 1 \n",
    "            # Caracte alfanumerico\n",
    "            else \n",
    "                \n",
    "        \n",
    "        "
   ]
  },
  {
   "cell_type": "markdown",
   "metadata": {},
   "source": [
    "## Calculadora"
   ]
  },
  {
   "cell_type": "markdown",
   "metadata": {},
   "source": [
    "Hacer una función para un programa al que le entregues dos números `x` y `y` un parámetro `t` tal que\n",
    "\n",
    "- Si t = b. debe devolver $x - y$\n",
    "- Si t = c, debe devolver $x + y$\n",
    "- Si t = d, debe devolver $x/y$\n",
    "- Si t = e, debe devolver $x^{y+1}$\n",
    "\n",
    "EXTRA. Intenta utilizar un lista.\n"
   ]
  },
  {
   "cell_type": "code",
   "execution_count": 1,
   "metadata": {},
   "outputs": [],
   "source": []
  },
  {
   "cell_type": "markdown",
   "metadata": {},
   "source": [
    "## Estaciones"
   ]
  },
  {
   "cell_type": "markdown",
   "metadata": {},
   "source": [
    "Hacer un script para un programa al que le entregues un parámetro mes. Según el mes que introduzca el usuario, el programa debe devolver: PRIMAVERA, VERANO, OTOÑO o INVIERNO.\n",
    "EXTRA. Intenta utilizar un diccionario."
   ]
  },
  {
   "cell_type": "code",
   "execution_count": null,
   "metadata": {},
   "outputs": [],
   "source": []
  },
  {
   "cell_type": "markdown",
   "metadata": {},
   "source": [
    "## El ahorcado"
   ]
  },
  {
   "cell_type": "markdown",
   "metadata": {},
   "source": [
    "Crea el juego del ahorcado.\n",
    "\n",
    "Primero se le pedirá al usuario que introduzca una palabra. Después, otro usuario irá introduciendo letras, una a una, de forma que cada vez que introduce una, la pantalla muestre signos de interrogación en las posiciones de las letras que no se han acertado todavía y las letras en las posiciones de las que se han acertado. Asímismo, se mostrarán las letras que se han empleado pero no son correctas. Sólo se permitirán 6 fallos.\n",
    "\n",
    "En el caso de adivinar la palabra, se felicitará al usuario y, en el caso de no hacerlo, se mostrará \"GAME OVER\" por pantalla."
   ]
  },
  {
   "cell_type": "code",
   "execution_count": null,
   "metadata": {},
   "outputs": [],
   "source": []
  }
 ],
 "metadata": {
  "kernelspec": {
   "display_name": "Python 3",
   "language": "python",
   "name": "python3"
  },
  "language_info": {
   "codemirror_mode": {
    "name": "ipython",
    "version": 3
   },
   "file_extension": ".py",
   "mimetype": "text/x-python",
   "name": "python",
   "nbconvert_exporter": "python",
   "pygments_lexer": "ipython3",
   "version": "3.8.5"
  }
 },
 "nbformat": 4,
 "nbformat_minor": 2
}
