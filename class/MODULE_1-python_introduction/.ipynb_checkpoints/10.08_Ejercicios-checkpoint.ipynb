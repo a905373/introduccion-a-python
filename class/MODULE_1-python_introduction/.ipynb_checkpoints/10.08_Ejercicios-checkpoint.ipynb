{
 "cells": [
  {
   "cell_type": "markdown",
   "metadata": {},
   "source": [
    "# Ejercicios - 16 septiembre\n",
    "Curso Introducción a Python - Tecnun, Universidad de Navarra"
   ]
  },
  {
   "cell_type": "markdown",
   "metadata": {},
   "source": [
    "## Creacción diccionario"
   ]
  },
  {
   "cell_type": "markdown",
   "metadata": {},
   "source": [
    "1. Crear un diccionario donde las claves sean los días de la semana y los valores sean cuántos de esos dias hay en septiembre.\n",
    "2. Del diccionario anterior, convertir todas las claves mayúsculas.\n",
    "\n",
    "EXTRA: Utiliza una tupla para los días de la semana."
   ]
  },
  {
   "cell_type": "code",
   "execution_count": 68,
   "metadata": {},
   "outputs": [],
   "source": [
    "d = {'Lunes': 4, \n",
    "     'Martes': 4, \n",
    "     'Miercoles': 4,\n",
    "     'Jueves': 5, \n",
    "     'Viernes': 5,\n",
    "     'Sabado': 4,\n",
    "     'Domingo': 4,}"
   ]
  },
  {
   "cell_type": "code",
   "execution_count": 71,
   "metadata": {},
   "outputs": [],
   "source": [
    "def upperCase(dict):\n",
    "    return dict.upper()\n",
    "\n",
    "uppercase_d = {}\n",
    "for key in d: \n",
    "    uppercase_d[upperCase(key)] = d[key] "
   ]
  },
  {
   "cell_type": "code",
   "execution_count": 72,
   "metadata": {},
   "outputs": [
    {
     "data": {
      "text/plain": [
       "{'LUNES': 4,\n",
       " 'MARTES': 4,\n",
       " 'MIERCOLES': 4,\n",
       " 'JUEVES': 5,\n",
       " 'VIERNES': 5,\n",
       " 'SABADO': 4,\n",
       " 'DOMINGO': 4}"
      ]
     },
     "execution_count": 72,
     "metadata": {},
     "output_type": "execute_result"
    }
   ],
   "source": [
    "uppercase_d"
   ]
  },
  {
   "cell_type": "markdown",
   "metadata": {},
   "source": [
    "## Cambiar el orden de las palabras"
   ]
  },
  {
   "cell_type": "markdown",
   "metadata": {},
   "source": [
    "Pide al usuario que introduzca una frase y que el algoritmo la muestre por pantalla pero con las palabras en orden inverso. Por ejemplo:\n",
    "\n",
    "    Me gusta analizar datos  ->  datos analizar gusta Me"
   ]
  },
  {
   "cell_type": "code",
   "execution_count": 29,
   "metadata": {},
   "outputs": [
    {
     "name": "stdout",
     "output_type": "stream",
     "text": [
      "Porfavor introduzca una frase: \n",
      "kob hbuy jo\n"
     ]
    },
    {
     "data": {
      "text/plain": [
       "'jo hbuy kob'"
      ]
     },
     "execution_count": 29,
     "metadata": {},
     "output_type": "execute_result"
    }
   ],
   "source": [
    "frase = input (\"Porfavor introduzca una frase: \\n\")\n",
    "x = frase.split(\" \")\n",
    "x = reversed(x) \n",
    "\" \".join(x)"
   ]
  },
  {
   "cell_type": "markdown",
   "metadata": {},
   "source": [
    "## Piedra - Papel - Tijera"
   ]
  },
  {
   "cell_type": "markdown",
   "metadata": {},
   "source": [
    "Crea un algoritmo que pida a dos usuarios si eligen piedra, papel o tijera y muestra por pantalla un mensaje para el ganador. En caso de empate, seguirán jugando hasta desempatar."
   ]
  },
  {
   "cell_type": "code",
   "execution_count": null,
   "metadata": {},
   "outputs": [],
   "source": [
    "i=0\n",
    "while i == 0: \n",
    "    J1 = input (\" Jugador 1, ¿piedra, papel o tijera?: \\n\")\n",
    "    J2 = input (\" Jugador 2, ¿piedra, papel o tijera?: \\n\")\n",
    "    if J1 == J2:\n",
    "        print (\" ¡Empate! \")\n",
    "        continue\n",
    "    elif J1 ==  \"piedra\":\n",
    "        i=1\n",
    "        if J2== \"tijera\":\n",
    "            print (\"¡Piedra gana contra tijera! ¡Felicidades jugador 1!\")\n",
    "        else: \n",
    "            print(\" ¡Papel gana contra piedra! ¡Felicidades jugador 2!\")\n",
    "    elif J1 == \"papel\":\n",
    "        i=1\n",
    "        if J2 == \"tijera\":\n",
    "            print (\"¡Tijera gana contra papel! ¡Felicidades jugador 2!\")\n",
    "        else:\n",
    "            print(\"¡Papel gana contra piedra! ¡Feliciades jugador 1!\")\n",
    "    elif J1 == \"tijera\": \n",
    "        i=1\n",
    "        if J2 == \"papel\":\n",
    "            print (\"¡Tijera gana contra papel! ¡Felicidades jugador 1!\")\n",
    "        else: \n",
    "            print (\"¡Piedra gana contra tijera! ¡Felicidades jugador 2!\")\n",
    "    "
   ]
  },
  {
   "cell_type": "markdown",
   "metadata": {},
   "source": [
    "## Calculadora"
   ]
  },
  {
   "cell_type": "markdown",
   "metadata": {},
   "source": [
    "Hacer una función para un programa al que le entregues dos números `x` y `y` un parámetro `t` tal que\n",
    "\n",
    "- Si t = b. debe devolver $x - y$\n",
    "- Si t = c, debe devolver $x + y$\n",
    "- Si t = d, debe devolver $x/y$\n",
    "- Si t = e, debe devolver $x^{y+1}$\n",
    "\n",
    "EXTRA. Intenta utilizar un lista.\n"
   ]
  },
  {
   "cell_type": "code",
   "execution_count": 76,
   "metadata": {},
   "outputs": [],
   "source": [
    "def operaciones(x, y, t):\n",
    "    if t==\"b\":\n",
    "        r=x-y\n",
    "        return r\n",
    "    elif t==\"c\":\n",
    "        r=x+y\n",
    "        return r\n",
    "    elif t==\"d\":\n",
    "        r=x/y\n",
    "        return r\n",
    "    elif t==\"e\":\n",
    "        r=x**(y+1)\n",
    "        return r\n",
    "    else: \n",
    "        print(\"Valor de t invalido, los valores de t pueden ser: b, c, d, e\") "
   ]
  },
  {
   "cell_type": "markdown",
   "metadata": {},
   "source": [
    "## Estaciones"
   ]
  },
  {
   "cell_type": "markdown",
   "metadata": {},
   "source": [
    "Hacer un script para un programa al que le entregues un parámetro mes. Según el mes que introduzca el usuario, el programa debe devolver: PRIMAVERA, VERANO, OTOÑO o INVIERNO.\n",
    "EXTRA. Intenta utilizar un diccionario."
   ]
  },
  {
   "cell_type": "code",
   "execution_count": 81,
   "metadata": {},
   "outputs": [
    {
     "name": "stdout",
     "output_type": "stream",
     "text": [
      "Introduce el mes (e.g. enero, febrero,...): marzo\n",
      "Introduce el día: 23\n",
      "La estación del año el día  23  de  marzo del 2021 sera  primavera\n"
     ]
    }
   ],
   "source": [
    "mes = input(\"Introduce el mes (e.g. enero, febrero,...): \")\n",
    "dia = int(input(\"Introduce el día: \"))\n",
    "\n",
    "if mes in ('enero', 'febrero', 'marzo'):\n",
    "\testacion = 'invierno'\n",
    "elif mes in ('abril', 'mayo', 'junio'):\n",
    "\testacion = 'primavera'\n",
    "elif mes in ('julio', 'agosto', 'septiembre'):\n",
    "\testacion = 'verano'\n",
    "elif mes in ('octubre', 'noviembre', 'diciembre'):\n",
    "\testacion = 'otoño'\n",
    "\n",
    "if (mes == 'marzo') and (dia > 20):\n",
    "\testacion = 'primavera'\n",
    "elif (mes == 'junio') and (dia > 20):\n",
    "\testacion = 'verano'\n",
    "elif (mes == 'septiembre') and (dia > 20):\n",
    "\testacion = 'otoño'\n",
    "elif (mes == 'diciembre') and (dia > 20):\n",
    "\testacion = 'invierno'\n",
    "\n",
    "print(\"La estación del año el día \",dia, \" de \",mes, \"del 2021 sera \",estacion)"
   ]
  }
 ],
 "metadata": {
  "kernelspec": {
   "display_name": "Python 3",
   "language": "python",
   "name": "python3"
  },
  "language_info": {
   "codemirror_mode": {
    "name": "ipython",
    "version": 3
   },
   "file_extension": ".py",
   "mimetype": "text/x-python",
   "name": "python",
   "nbconvert_exporter": "python",
   "pygments_lexer": "ipython3",
   "version": "3.8.5"
  }
 },
 "nbformat": 4,
 "nbformat_minor": 2
}
