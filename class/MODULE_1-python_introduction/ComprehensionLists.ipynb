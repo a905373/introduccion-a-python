{
 "cells": [
  {
   "cell_type": "markdown",
   "id": "informational-arnold",
   "metadata": {},
   "source": [
    "Utilice listas por comprehensión para resolver los siguientes 4 ejercicios. Suba el archivo de jupyter notebook."
   ]
  },
  {
   "cell_type": "markdown",
   "id": "signed-status",
   "metadata": {},
   "source": [
    "1. Encuentra todos los números del 1 al 1000 que tengan un 3 contenido en ellos"
   ]
  },
  {
   "cell_type": "code",
   "execution_count": 11,
   "id": "suspended-doubt",
   "metadata": {},
   "outputs": [],
   "source": [
    "vector = list(range(1000))\n",
    "vector1 = [v for v in vector if str(v).find(\"3\")>0]\n",
    "vector1"
   ]
  },
  {
   "cell_type": "markdown",
   "id": "olive-theme",
   "metadata": {},
   "source": [
    "2. Cuenta el número de espacios en una cadena de caracteres dados"
   ]
  },
  {
   "cell_type": "code",
   "execution_count": 108,
   "id": "available-tablet",
   "metadata": {},
   "outputs": [
    {
     "name": "stdout",
     "output_type": "stream",
     "text": [
      "4\n"
     ]
    }
   ],
   "source": [
    "cadena = \"Hola mundo me llamo Camila\"\n",
    "espacios = [v for v in cadena if v == ' ']\n",
    "print(len(espacios))"
   ]
  },
  {
   "cell_type": "markdown",
   "id": "intellectual-frank",
   "metadata": {},
   "source": [
    "3. Elimina todas las vocales de una cadena [haz una lista de las no vocales]"
   ]
  },
  {
   "cell_type": "code",
   "execution_count": 98,
   "id": "political-chapel",
   "metadata": {},
   "outputs": [
    {
     "data": {
      "text/plain": [
       "['H', 'l', 'm', 'n', 'd', 'm', 'l', 'l', 'm', 'c', 'm', 'l']"
      ]
     },
     "execution_count": 98,
     "metadata": {},
     "output_type": "execute_result"
    }
   ],
   "source": [
    "frase_ent = \"Hola mundo me llamo Camila\"\n",
    "vocales = \"aeiouAEIOU \"\n",
    "no_vocales = [v for v in frase_ent if v not in vocales]\n",
    "no_vocales"
   ]
  },
  {
   "cell_type": "markdown",
   "id": "indoor-married",
   "metadata": {},
   "source": [
    "4. Encuentra todas las palabras de una cadena que tengan menos de 4 letras"
   ]
  },
  {
   "cell_type": "code",
   "execution_count": 99,
   "id": "interracial-somalia",
   "metadata": {},
   "outputs": [
    {
     "data": {
      "text/plain": [
       "['mundo', 'llamo', 'camila']"
      ]
     },
     "execution_count": 99,
     "metadata": {},
     "output_type": "execute_result"
    }
   ],
   "source": [
    "frase_ent.rsplit(sep=\" \")\n",
    "palabras_4 = [palabra for palabra in frase_ent.rsplit(sep=\" \") if len(palabra)>4]\n",
    "palabras_4"
   ]
  }
 ],
 "metadata": {
  "kernelspec": {
   "display_name": "Python 3",
   "language": "python",
   "name": "python3"
  },
  "language_info": {
   "codemirror_mode": {
    "name": "ipython",
    "version": 3
   },
   "file_extension": ".py",
   "mimetype": "text/x-python",
   "name": "python",
   "nbconvert_exporter": "python",
   "pygments_lexer": "ipython3",
   "version": "3.8.5"
  }
 },
 "nbformat": 4,
 "nbformat_minor": 5
}
